{
 "cells": [
  {
   "cell_type": "markdown",
   "id": "0524b114",
   "metadata": {},
   "source": [
    "# Hidden Markov model "
   ]
  },
  {
   "cell_type": "code",
   "execution_count": 23,
   "id": "134f1877",
   "metadata": {},
   "outputs": [],
   "source": [
    "from miditoolkit import MidiFile, Instrument, Note\n",
    "\n",
    "import os\n",
    "import json\n",
    "from glob import glob\n",
    "from collections import Counter, defaultdict\n",
    "\n",
    "from hmmlearn import hmm\n",
    "import numpy as np\n",
    "import random"
   ]
  },
  {
   "cell_type": "markdown",
   "id": "bcae069d",
   "metadata": {},
   "source": [
    "# MIDI file characteristics"
   ]
  },
  {
   "cell_type": "code",
   "execution_count": 24,
   "id": "bb76867a",
   "metadata": {},
   "outputs": [
    {
     "name": "stdout",
     "output_type": "stream",
     "text": [
      "Number of train files 4502\n"
     ]
    }
   ],
   "source": [
    "mid_fps = glob('nesmdb_midi/train/*')\n",
    "print(\"Number of train files\", len(mid_fps))"
   ]
  },
  {
   "cell_type": "code",
   "execution_count": 25,
   "id": "4c02aa43",
   "metadata": {},
   "outputs": [
    {
     "name": "stdout",
     "output_type": "stream",
     "text": [
      "ticks per beat: 22050\n",
      "max tick: 528334\n",
      "tempo changes: 1\n",
      "time sig: 2\n",
      "key sig: 0\n",
      "markers: 0\n",
      "lyrics: False\n",
      "instruments: 4 \n",
      "\n",
      "Instrument(program=80, is_drum=False, name=p1) - 61 notes\n",
      "[Note(velocity=5, pitch=50, start=21, end=2926), Note(velocity=5, pitch=52, start=4402, end=7330), Note(velocity=5, pitch=53, start=8804, end=11719), Note(velocity=5, pitch=52, start=13195, end=16123), Note(velocity=5, pitch=43, start=17603, end=20525)] \n",
      "\n",
      "Instrument(program=81, is_drum=False, name=p2) - 79 notes\n",
      "[Note(velocity=15, pitch=57, start=1, end=460), Note(velocity=15, pitch=50, start=460, end=919), Note(velocity=15, pitch=43, start=919, end=1379), Note(velocity=15, pitch=36, start=1379, end=1838), Note(velocity=9, pitch=64, start=17585, end=17916)] \n",
      "\n",
      "Instrument(program=38, is_drum=False, name=tr) - 62 notes\n",
      "[Note(velocity=1, pitch=62, start=8, end=2921), Note(velocity=1, pitch=64, start=4393, end=7325), Note(velocity=1, pitch=65, start=8795, end=11715), Note(velocity=1, pitch=64, start=13186, end=16118), Note(velocity=1, pitch=55, start=17594, end=20520)] \n",
      "\n",
      "Instrument(program=121, is_drum=True, name=no) - 25 notes\n",
      "[Note(velocity=2, pitch=9, start=26394, end=29322), Note(velocity=2, pitch=9, start=61616, end=64544), Note(velocity=2, pitch=9, start=96839, end=99767), Note(velocity=2, pitch=9, start=132061, end=134989), Note(velocity=2, pitch=9, start=158478, end=161406)] \n",
      "\n"
     ]
    }
   ],
   "source": [
    "midi = MidiFile(mid_fps[10])\n",
    "print(midi, '\\n')\n",
    "for i in range(len(midi.instruments)):\n",
    "    print(midi.instruments[i])\n",
    "    print(midi.instruments[i].notes[:5], '\\n')"
   ]
  },
  {
   "cell_type": "code",
   "execution_count": 26,
   "id": "0b32a02c",
   "metadata": {},
   "outputs": [],
   "source": [
    "# tpb = []\n",
    "# ts = []\n",
    "# for fp in mid_fps:\n",
    "#     midi = MidiFile(fp)\n",
    "#     tpb.append(midi.ticks_per_beat)"
   ]
  },
  {
   "cell_type": "code",
   "execution_count": 27,
   "id": "7ebb2d6f",
   "metadata": {},
   "outputs": [],
   "source": [
    "# np.unique(tpb)\n",
    "# array([22050])"
   ]
  },
  {
   "cell_type": "code",
   "execution_count": 28,
   "id": "dfce28a4",
   "metadata": {},
   "outputs": [],
   "source": [
    "# velocities = []\n",
    "# for fp in mid_fps:\n",
    "#     midi = MidiFile(fp)\n",
    "#     for instrument in midi.instruments:\n",
    "#         velocities.append([note.velocity for note in instrument.notes])"
   ]
  },
  {
   "cell_type": "code",
   "execution_count": 29,
   "id": "88bea23f",
   "metadata": {},
   "outputs": [],
   "source": [
    "# vflat = [v for vv in velocities for v in vv]"
   ]
  },
  {
   "cell_type": "code",
   "execution_count": 30,
   "id": "8960b2af",
   "metadata": {},
   "outputs": [],
   "source": [
    "# np.unique(vflat)\n",
    "# array([ 1,  2,  3,  4,  5,  6,  7,  8,  9, 10, 11, 12, 13, 14, 15])"
   ]
  },
  {
   "cell_type": "markdown",
   "id": "f527ec25",
   "metadata": {},
   "source": [
    "# Hidden Markov Model"
   ]
  },
  {
   "cell_type": "code",
   "execution_count": null,
   "id": "30c4814b",
   "metadata": {},
   "outputs": [],
   "source": [
    "# uses MIDI synth \n",
    "# 80 synth lead (pulse square), 81 synth lead (pulse sawtooth), 38 synth bass (triangle), 121 Breath (noise)\n",
    "\n",
    "NAME_TO_PROGRAM = {\n",
    "    'p1': 80,\n",
    "    'p2': 81,\n",
    "    'tr': 38,\n",
    "    'no': 121\n",
    "}\n",
    "\n",
    "INSTRUMENTS = ['p1', 'p2', 'tr', 'no']"
   ]
  },
  {
   "cell_type": "code",
   "execution_count": null,
   "id": "e5e47669",
   "metadata": {},
   "outputs": [],
   "source": [
    "# model variables\n",
    "TICKS_PER_BEAT = 22050\n",
    "# quantization of durations to downsize observation space\n",
    "# 1 is whole note, 0.25 is quarter note, etc.\n",
    "# chosen by personal discretion after \n",
    "DURATION_VALUES = [int(TICKS_PER_BEAT * d) for d in [0.25, 0.5, 0.75, 1.0, 2.0, 4.0, 8.0, 16.0, 32.0]]\n",
    "# hidden state count\n",
    "HMM_COMPONENTS = 16\n",
    "# sequence length that is generated\n",
    "GEN_LENGTH = 400"
   ]
  },
  {
   "cell_type": "code",
   "execution_count": null,
   "id": "e58d9bf2",
   "metadata": {},
   "outputs": [],
   "source": [
    "# quantize note durations as specified bins in DURATION_VALUES\n",
    "def quantize_duration(duration):\n",
    "    return min(DURATION_VALUES, key=lambda x: abs(duration - x))"
   ]
  },
  {
   "cell_type": "code",
   "execution_count": null,
   "id": "12f714d2",
   "metadata": {},
   "outputs": [],
   "source": [
    "# quantize note velocities to downsize observation space\n",
    "# also reduces jarring transitions between volume\n",
    "# the original velocities are within: array([ 1,  2,  3,  4,  5,  6,  7,  8,  9, 10, 11, 12, 13, 14, 15])\n",
    "def quantize_velocity(velocity):\n",
    "    if velocity == 0: return 0\n",
    "    elif velocity < 4: return 2\n",
    "    elif velocity < 8: return 4\n",
    "    elif velocity < 12: return 6\n",
    "    elif velocity < 16: return 8\n",
    "    else: return 10"
   ]
  },
  {
   "cell_type": "code",
   "execution_count": null,
   "id": "86876052",
   "metadata": {},
   "outputs": [],
   "source": [
    "# note in format (pitch, duration, velocity)\n",
    "# return a dictionary of sequences per instrument\n",
    "# accounts for REST durations \n",
    "def extract_quantized_notes(midi_path):\n",
    "    midi = MidiFile(midi_path)\n",
    "    notes_by_instr = {instr: [] for instr in INSTRUMENTS}\n",
    "    for instrument in midi.instruments:\n",
    "        name = instrument.name\n",
    "        notes = sorted(instrument.notes, key=lambda n: n.start)\n",
    "        current_time = 0\n",
    "        for note in notes:\n",
    "            if note.start > current_time:\n",
    "                # quantize rest and insert\n",
    "                rest = quantize_duration(note.start - current_time)\n",
    "                notes_by_instr[name].append((0, rest, 0))  # REST\n",
    "            pitch = note.pitch\n",
    "            duration = note.end - note.start\n",
    "            duration = quantize_duration(duration)\n",
    "            # velocity = note.velocity\n",
    "            velocity = quantize_velocity(note.velocity)\n",
    "            notes_by_instr[name].append((pitch, duration, velocity))\n",
    "            current_time = note.end\n",
    "    return notes_by_instr"
   ]
  },
  {
   "cell_type": "code",
   "execution_count": null,
   "id": "df373e70",
   "metadata": {},
   "outputs": [
    {
     "data": {
      "text/plain": [
       "{'p1': [(0, 5512, 0),\n",
       "  (65, 16537, 8),\n",
       "  (69, 5512, 6),\n",
       "  (65, 5512, 8),\n",
       "  (69, 5512, 8),\n",
       "  (70, 16537, 8),\n",
       "  (74, 5512, 6),\n",
       "  (70, 5512, 8),\n",
       "  (74, 5512, 8),\n",
       "  (77, 22050, 8)],\n",
       " 'p2': [],\n",
       " 'tr': [(0, 5512, 0),\n",
       "  (62, 16537, 2),\n",
       "  (65, 5512, 2),\n",
       "  (62, 5512, 2),\n",
       "  (65, 5512, 2),\n",
       "  (67, 16537, 2),\n",
       "  (70, 5512, 2),\n",
       "  (67, 5512, 2),\n",
       "  (70, 5512, 2),\n",
       "  (74, 22050, 2)],\n",
       " 'no': []}"
      ]
     },
     "execution_count": 36,
     "metadata": {},
     "output_type": "execute_result"
    }
   ],
   "source": [
    "# example output of quantized format\n",
    "extract_quantized_notes(mid_fps[0])"
   ]
  },
  {
   "cell_type": "code",
   "execution_count": null,
   "id": "46427eba",
   "metadata": {},
   "outputs": [
    {
     "data": {
      "text/plain": [
       "[Instrument(program=80, is_drum=False, name=p1) - 9 notes,\n",
       " Instrument(program=38, is_drum=False, name=tr) - 9 notes]"
      ]
     },
     "execution_count": 37,
     "metadata": {},
     "output_type": "execute_result"
    }
   ],
   "source": [
    "# shows that the correct instruments are identified \n",
    "# unused instruments are indicated by an empty sequence \n",
    "midi = MidiFile(mid_fps[0])\n",
    "midi.instruments"
   ]
  },
  {
   "cell_type": "code",
   "execution_count": null,
   "id": "3440119c",
   "metadata": {},
   "outputs": [],
   "source": [
    "# enumerate observations\n",
    "def build_vocab(flat_notes):\n",
    "    vocab = {n: i for i, n in enumerate(sorted(set(flat_notes)))}\n",
    "    inv_vocab = {i: n for n, i in vocab.items()}\n",
    "    return vocab, inv_vocab\n",
    "\n",
    "# convert token to value\n",
    "def encode(notes, vocab):\n",
    "    return np.array([vocab[n] for n in notes if n in vocab]).reshape(-1, 1)\n",
    "\n",
    "# convert value to token\n",
    "def decode(indices, inv_vocab):\n",
    "    return [inv_vocab[i[0]] for i in indices]\n",
    "\n",
    "# run the HMM\n",
    "def train_hmm(encoded_sequences, n_components=HMM_COMPONENTS):\n",
    "    model = hmm.CategoricalHMM(n_components=n_components, n_iter=100, random_state=17)\n",
    "    lengths = [len(seq) for seq in encoded_sequences]\n",
    "    X = np.concatenate(encoded_sequences)\n",
    "    model.fit(X, lengths)\n",
    "    return model\n"
   ]
  },
  {
   "cell_type": "code",
   "execution_count": 39,
   "id": "6c48eca2",
   "metadata": {},
   "outputs": [],
   "source": [
    "# download the non-encoded multi-instrument sequences as a midi at the given output path\n",
    "def save_midi(note_sequences, output_path):\n",
    "    midi = MidiFile(ticks_per_beat=TICKS_PER_BEAT)\n",
    "    for instr, notes in note_sequences.items():\n",
    "        inst = Instrument(program=NAME_TO_PROGRAM[instr], is_drum=False, name=instr)\n",
    "        time = 0\n",
    "        for pitch, duration, velocity in notes:\n",
    "            #print(\"output duration\", duration)\n",
    "            if pitch == 0:\n",
    "                time += duration  # rest\n",
    "            else:\n",
    "                note = Note(velocity=velocity, pitch=pitch, start=time, end=time + duration)\n",
    "                inst.notes.append(note)\n",
    "                time += duration\n",
    "        midi.instruments.append(inst)\n",
    "    midi.dump(output_path)\n",
    "    return midi"
   ]
  },
  {
   "cell_type": "code",
   "execution_count": null,
   "id": "bfc954bd",
   "metadata": {},
   "outputs": [],
   "source": [
    "# load dataset\n",
    "all_instr_notes = {instr: [] for instr in INSTRUMENTS}\n",
    "\n",
    "mid_fps = glob('nesmdb_midi/train/*')\n",
    "mid_fps = random.sample(mid_fps, len(mid_fps) // 2)\n",
    "\n",
    "# extract all sequences per midi file\n",
    "for file in mid_fps:\n",
    "    notes = extract_quantized_notes(file)\n",
    "    for instr in INSTRUMENTS:\n",
    "        if len(notes[instr]) > 0:\n",
    "            all_instr_notes[instr].append(notes[instr])"
   ]
  },
  {
   "cell_type": "code",
   "execution_count": 41,
   "id": "baefdac3",
   "metadata": {},
   "outputs": [],
   "source": [
    "# save tokens as json\n",
    "with open(\"train_instr.json\", \"w\") as fp:\n",
    "    json.dump(all_instr_notes, fp)"
   ]
  },
  {
   "cell_type": "code",
   "execution_count": null,
   "id": "56aca6f4",
   "metadata": {},
   "outputs": [
    {
     "name": "stdout",
     "output_type": "stream",
     "text": [
      "Training HMM for p1\n",
      "Training HMM for p2\n",
      "Training HMM for tr\n",
      "Training HMM for no\n"
     ]
    }
   ],
   "source": [
    "# Train HMMs\n",
    "\n",
    "models = defaultdict()\n",
    "\n",
    "for instr in INSTRUMENTS:\n",
    "    print(f\"Training HMM for {instr}\")\n",
    "    \n",
    "    # flatten the list of sequences per instrument\n",
    "    flat_notes = [note for song in all_instr_notes[instr] for note in song]\n",
    "    vocab, inv_vocab = build_vocab(flat_notes)\n",
    "    \n",
    "    # encode the sequence using the vocabulary\n",
    "    encoded_sequences = [encode(song, vocab) for song in all_instr_notes[instr] if len(song) > 0]\n",
    "    #print(encoded_sequences)\n",
    "    model = train_hmm(encoded_sequences)\n",
    "    models[instr] = model"
   ]
  },
  {
   "cell_type": "markdown",
   "id": "0055b4e2",
   "metadata": {},
   "source": [
    "# Sequence generation and log-likelihood"
   ]
  },
  {
   "cell_type": "code",
   "execution_count": 55,
   "id": "d6fd3bda",
   "metadata": {},
   "outputs": [
    {
     "name": "stdout",
     "output_type": "stream",
     "text": [
      "Generating notes for p1\n",
      "Normalized log-likelihood: -4.697758443595988\n",
      "Generating notes for p2\n",
      "Normalized log-likelihood: -4.227946109643358\n",
      "Generating notes for tr\n",
      "Normalized log-likelihood: -2.230846940285682\n",
      "Generating notes for no\n",
      "Normalized log-likelihood: -2.3744022937124085\n"
     ]
    }
   ],
   "source": [
    "# generate notes from trained models\n",
    "\n",
    "generated_tracks = defaultdict()\n",
    "\n",
    "for instr in INSTRUMENTS:\n",
    "    print(f\"Generating notes for {instr}\")\n",
    "    flat_notes = [note for song in all_instr_notes[instr] for note in song]\n",
    "    vocab, inv_vocab = build_vocab(flat_notes)\n",
    "    model = models[instr]\n",
    "    generated_encoded = model.sample(GEN_LENGTH)[0]\n",
    "    log_prob = model.score(generated_encoded)\n",
    "    print(\"Normalized log-likelihood:\", log_prob / len(generated_encoded))\n",
    "    generated_notes = decode(generated_encoded, inv_vocab)\n",
    "    generated_tracks[instr] = generated_notes"
   ]
  },
  {
   "cell_type": "code",
   "execution_count": 56,
   "id": "72a1c11d",
   "metadata": {},
   "outputs": [
    {
     "name": "stdout",
     "output_type": "stream",
     "text": [
      "MIDI saved to: outputs/hmm_14.mid\n"
     ]
    }
   ],
   "source": [
    "output_path = 'outputs/hmm_14.mid'\n",
    "out = save_midi(generated_tracks, output_path)\n",
    "print(f\"MIDI saved to: {output_path}\")"
   ]
  },
  {
   "cell_type": "markdown",
   "id": "dc1d314e",
   "metadata": {},
   "source": [
    "# KL Divergence (pitch)"
   ]
  },
  {
   "cell_type": "code",
   "execution_count": 125,
   "id": "69be53f3",
   "metadata": {},
   "outputs": [],
   "source": [
    "from scipy.stats import entropy"
   ]
  },
  {
   "cell_type": "code",
   "execution_count": 146,
   "id": "7d4ae45a",
   "metadata": {},
   "outputs": [],
   "source": [
    "def extract_pitch_histograms_per_instrument(midi_paths):\n",
    "\n",
    "    pitch_bins = np.arange(129)\n",
    "    pitch_counts = defaultdict(list)\n",
    "\n",
    "    for path in midi_paths:\n",
    "        midi = MidiFile(path)\n",
    "        for instr in midi.instruments:\n",
    "            name = instr.name\n",
    "            pitches = [note.pitch for note in instr.notes]\n",
    "            if pitches:\n",
    "                hist, _ = np.histogram(pitches, bins=pitch_bins, density=False)\n",
    "                pitch_counts[name].append(hist)\n",
    "\n",
    "    # Combine and normalize per instrument\n",
    "    histograms = {}\n",
    "    for instr, hists in pitch_counts.items():\n",
    "        total = np.sum(hists, axis=0) + 1e-8\n",
    "        histograms[instr] = total / total.sum()\n",
    "\n",
    "    return histograms"
   ]
  },
  {
   "cell_type": "code",
   "execution_count": 147,
   "id": "92be4bcd",
   "metadata": {},
   "outputs": [],
   "source": [
    "def compute_kl_per_instrument(gen_histograms, ref_histograms):\n",
    "    kl_dict = {}\n",
    "    for instr in ref_histograms:\n",
    "        if instr in gen_histograms:\n",
    "            kl = entropy(ref_histograms[instr], gen_histograms[instr])\n",
    "            kl_dict[instr] = kl\n",
    "        else:\n",
    "            kl_dict[instr] = np.inf  # missing instrument\n",
    "    return kl_dict"
   ]
  },
  {
   "cell_type": "code",
   "execution_count": 176,
   "id": "ee93096f",
   "metadata": {},
   "outputs": [],
   "source": [
    "training_paths = glob(\"nesmdb_midi/train/*\")\n",
    "ref_hist = extract_pitch_histograms_per_instrument(training_paths)"
   ]
  },
  {
   "cell_type": "code",
   "execution_count": 177,
   "id": "b932eed9",
   "metadata": {},
   "outputs": [],
   "source": [
    "hmm_paths = glob(\"outputs/hmm_*.mid\")\n",
    "hmm_hist = extract_pitch_histograms_per_instrument(hmm_paths)\n",
    "hmm_kl = compute_kl_per_instrument(hmm_hist, ref_hist)"
   ]
  },
  {
   "cell_type": "code",
   "execution_count": 178,
   "id": "278346f2",
   "metadata": {},
   "outputs": [
    {
     "data": {
      "text/plain": [
       "{'p1': 0.039340996622072376,\n",
       " 'tr': 0.17909712939797354,\n",
       " 'p2': 0.06244394502672241,\n",
       " 'no': 0.00539675125873548}"
      ]
     },
     "execution_count": 178,
     "metadata": {},
     "output_type": "execute_result"
    }
   ],
   "source": [
    "hmm_kl"
   ]
  },
  {
   "cell_type": "code",
   "execution_count": 182,
   "id": "da9192d1",
   "metadata": {},
   "outputs": [],
   "source": [
    "chain_paths = glob(\"outputs/markov_*.mid\")\n",
    "chain_hist = extract_pitch_histograms_per_instrument(chain_paths)\n",
    "chain_kl = compute_kl_per_instrument(chain_hist, ref_hist)"
   ]
  },
  {
   "cell_type": "code",
   "execution_count": 183,
   "id": "51e2f2e8",
   "metadata": {},
   "outputs": [
    {
     "data": {
      "text/plain": [
       "{'p1': 0.08232277652595449,\n",
       " 'tr': 0.10465714078364963,\n",
       " 'p2': 0.09822218660567458,\n",
       " 'no': 0.007510883348865858}"
      ]
     },
     "execution_count": 183,
     "metadata": {},
     "output_type": "execute_result"
    }
   ],
   "source": [
    "chain_kl"
   ]
  },
  {
   "cell_type": "code",
   "execution_count": null,
   "id": "1f8ce820",
   "metadata": {},
   "outputs": [],
   "source": []
  }
 ],
 "metadata": {
  "kernelspec": {
   "display_name": "Python 3 (ipykernel)",
   "language": "python",
   "name": "python3"
  },
  "language_info": {
   "codemirror_mode": {
    "name": "ipython",
    "version": 3
   },
   "file_extension": ".py",
   "mimetype": "text/x-python",
   "name": "python",
   "nbconvert_exporter": "python",
   "pygments_lexer": "ipython3",
   "version": "3.11.5"
  }
 },
 "nbformat": 4,
 "nbformat_minor": 5
}
