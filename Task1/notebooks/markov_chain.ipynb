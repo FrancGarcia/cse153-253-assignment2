{
 "cells": [
  {
   "cell_type": "markdown",
   "id": "458327c1",
   "metadata": {},
   "source": [
    "# Markov chain"
   ]
  },
  {
   "cell_type": "code",
   "execution_count": 1,
   "id": "4a8d821b",
   "metadata": {},
   "outputs": [],
   "source": [
    "import os\n",
    "import random\n",
    "import numpy as np\n",
    "from collections import defaultdict, Counter\n",
    "from miditoolkit import MidiFile, Instrument, Note\n",
    "import math"
   ]
  },
  {
   "cell_type": "code",
   "execution_count": 2,
   "id": "920e3fe6",
   "metadata": {},
   "outputs": [],
   "source": [
    "TICKS_PER_BEAT = 22050\n",
    "DURATION_VALUES = [int(TICKS_PER_BEAT * d) for d in [0.25, 0.5, 0.75, 1.0, 2.0, 4.0, 8.0, 16.0, 32.0]]"
   ]
  },
  {
   "cell_type": "code",
   "execution_count": 3,
   "id": "489a01de",
   "metadata": {},
   "outputs": [],
   "source": [
    "def quantize_duration(val, choices):\n",
    "    return min(choices, key=lambda x: abs(x - val))"
   ]
  },
  {
   "cell_type": "code",
   "execution_count": 4,
   "id": "dce22128",
   "metadata": {},
   "outputs": [],
   "source": [
    "def quantize_velocity(velocity):\n",
    "    if velocity == 0: return 0\n",
    "    elif velocity < 4: return 2\n",
    "    elif velocity < 8: return 4\n",
    "    elif velocity < 12: return 6\n",
    "    elif velocity < 16: return 8\n",
    "    else: return 10"
   ]
  },
  {
   "cell_type": "code",
   "execution_count": 5,
   "id": "ce91feb6",
   "metadata": {},
   "outputs": [],
   "source": [
    "def extract_tokens_by_instrument(midi_path):\n",
    "    midi = MidiFile(midi_path)\n",
    "    program_tokens = defaultdict(list)\n",
    "    for track in midi.instruments:\n",
    "        notes = sorted(track.notes, key=lambda n: n.start)\n",
    "        current_time = 0\n",
    "        for note in notes:\n",
    "            if note.start > current_time:\n",
    "                rest_dur = quantize_duration(note.start - current_time, DURATION_VALUES)\n",
    "                program_tokens[track.program].append((0, rest_dur, 0))  # rest\n",
    "            pitch = note.pitch\n",
    "            dur = quantize_duration(note.end - note.start, DURATION_VALUES)\n",
    "            vel = quantize_velocity(note.velocity)\n",
    "            program_tokens[track.program].append((pitch, dur, vel))\n",
    "            current_time = note.end\n",
    "    return program_tokens"
   ]
  },
  {
   "cell_type": "code",
   "execution_count": 6,
   "id": "650d92d2",
   "metadata": {},
   "outputs": [],
   "source": [
    "def build_markov_chain(tokens):\n",
    "    transitions = defaultdict(Counter)\n",
    "    for i in range(len(tokens) - 1):\n",
    "        transitions[tokens[i]][tokens[i + 1]] += 1\n",
    "    return transitions"
   ]
  },
  {
   "cell_type": "code",
   "execution_count": 7,
   "id": "ed0bda14",
   "metadata": {},
   "outputs": [],
   "source": [
    "def build_chains_for_all(mididir):\n",
    "    all_program_chains = defaultdict(list)\n",
    "    for file in os.listdir(mididir):\n",
    "        if file.endswith(\".mid\"):\n",
    "            full_path = os.path.join(mididir, file)\n",
    "            prog_tokens = extract_tokens_by_instrument(full_path)\n",
    "            for program, tokens in prog_tokens.items():\n",
    "                all_program_chains[program].extend(tokens)\n",
    "    return {program: build_markov_chain(tokens) for program, tokens in all_program_chains.items()}"
   ]
  },
  {
   "cell_type": "code",
   "execution_count": 8,
   "id": "3d3a2757",
   "metadata": {},
   "outputs": [],
   "source": [
    "def sample_next(transitions, current_token):\n",
    "    next_tokens = transitions.get(current_token)\n",
    "    if not next_tokens:\n",
    "        return random.choice(list(transitions.keys()))\n",
    "    total = sum(next_tokens.values())\n",
    "    choices, weights = zip(*next_tokens.items())\n",
    "    probs = [w / total for w in weights]\n",
    "    return random.choices(choices, probs)[0]"
   ]
  },
  {
   "cell_type": "code",
   "execution_count": 9,
   "id": "e9979ede",
   "metadata": {},
   "outputs": [],
   "source": [
    "def generate_sequence(chain, length=200):\n",
    "    current = random.choice(list(chain.keys()))\n",
    "    sequence = [current]\n",
    "    for _ in range(length - 1):\n",
    "        current = sample_next(chain, current)\n",
    "        sequence.append(current)\n",
    "    return sequence"
   ]
  },
  {
   "cell_type": "code",
   "execution_count": 10,
   "id": "26783c4a",
   "metadata": {},
   "outputs": [],
   "source": [
    "NAME_TO_PROGRAM = {\n",
    "    'p1': 80,\n",
    "    'p2': 81,\n",
    "    'tr': 38,\n",
    "    'no': 121\n",
    "}\n",
    "\n",
    "PROGRAM_TO_NAME = {\n",
    "    80: 'p1',\n",
    "    81: 'p2',\n",
    "    38: 'tr',\n",
    "    121: 'no'\n",
    "}"
   ]
  },
  {
   "cell_type": "code",
   "execution_count": 11,
   "id": "2ab1c56d",
   "metadata": {},
   "outputs": [],
   "source": [
    "def save_multi_program_midi(program_sequences, filename, ticks_per_beat=TICKS_PER_BEAT):\n",
    "    midi = MidiFile(ticks_per_beat=TICKS_PER_BEAT)\n",
    "    for program, tokens in program_sequences.items():\n",
    "        track = Instrument(program=program, is_drum=False, name=PROGRAM_TO_NAME[program])\n",
    "        time = 0\n",
    "        for pitch, dur, vel in tokens:\n",
    "            if pitch == 0:\n",
    "                time += dur  # rest\n",
    "            else:\n",
    "                note = Note(velocity=vel, pitch=pitch, start=time, end=time + dur)\n",
    "                track.notes.append(note)\n",
    "                time += dur\n",
    "        midi.instruments.append(track)\n",
    "    midi.dump(filename)\n",
    "    return midi"
   ]
  },
  {
   "cell_type": "code",
   "execution_count": 12,
   "id": "366fba32",
   "metadata": {},
   "outputs": [],
   "source": [
    "MIDI_DIR = \"nesmdb_midi/train\""
   ]
  },
  {
   "cell_type": "code",
   "execution_count": 13,
   "id": "472166e9",
   "metadata": {},
   "outputs": [],
   "source": [
    "chains = build_chains_for_all(MIDI_DIR)"
   ]
  },
  {
   "cell_type": "markdown",
   "id": "d0157d01",
   "metadata": {},
   "source": [
    "# Sequence generation and log-likelihood"
   ]
  },
  {
   "cell_type": "code",
   "execution_count": 14,
   "id": "4ac4e9b1",
   "metadata": {},
   "outputs": [],
   "source": [
    "def compute_markov_log_likelihood(sequence, chain, smoothing=1e-8):\n",
    "    # Convert counts to probabilities\n",
    "    transition_probs = {\n",
    "        state: {\n",
    "            next_state: count / sum(next_states.values())\n",
    "            for next_state, count in next_states.items()\n",
    "        }\n",
    "        for state, next_states in chain.items()\n",
    "    }\n",
    "\n",
    "    log_likelihood = 0.0\n",
    "    for i in range(len(sequence) - 1):\n",
    "        s1, s2 = sequence[i], sequence[i + 1]\n",
    "        prob = transition_probs.get(s1, {}).get(s2, smoothing)  # Smoothing for unseen transitions\n",
    "        log_likelihood += math.log(prob)\n",
    "    return log_likelihood"
   ]
  },
  {
   "cell_type": "code",
   "execution_count": 15,
   "id": "60284228",
   "metadata": {},
   "outputs": [],
   "source": [
    "def normalized_log_likelihood(sequence, chain):\n",
    "    return compute_markov_log_likelihood(sequence, chain) / max(1, len(sequence))"
   ]
  },
  {
   "cell_type": "code",
   "execution_count": 55,
   "id": "392b0fe5",
   "metadata": {},
   "outputs": [],
   "source": [
    "generated_sequences = {\n",
    "    prog: generate_sequence(chain, length=400) for prog, chain in chains.items()\n",
    "}"
   ]
  },
  {
   "cell_type": "code",
   "execution_count": 56,
   "id": "e910be81",
   "metadata": {},
   "outputs": [
    {
     "name": "stdout",
     "output_type": "stream",
     "text": [
      "p1\n",
      "Normalized log-likelihood: -3.819025192351291\n",
      "tr\n",
      "Normalized log-likelihood: -2.6025356194206015\n",
      "p2\n",
      "Normalized log-likelihood: -3.6414802107887425\n",
      "no\n",
      "Normalized log-likelihood: -2.4549657032047305\n"
     ]
    }
   ],
   "source": [
    "for prog, sequence in generated_sequences.items():\n",
    "    chain = chains[prog]\n",
    "    print(PROGRAM_TO_NAME[prog])\n",
    "    print(\"Normalized log-likelihood:\", normalized_log_likelihood(sequence, chain))"
   ]
  },
  {
   "cell_type": "code",
   "execution_count": 57,
   "id": "56630134",
   "metadata": {},
   "outputs": [],
   "source": [
    "out = save_multi_program_midi(generated_sequences, \"outputs/markov_19.mid\")"
   ]
  },
  {
   "cell_type": "code",
   "execution_count": null,
   "id": "81babaee",
   "metadata": {},
   "outputs": [],
   "source": []
  }
 ],
 "metadata": {
  "kernelspec": {
   "display_name": "Python 3 (ipykernel)",
   "language": "python",
   "name": "python3"
  },
  "language_info": {
   "codemirror_mode": {
    "name": "ipython",
    "version": 3
   },
   "file_extension": ".py",
   "mimetype": "text/x-python",
   "name": "python",
   "nbconvert_exporter": "python",
   "pygments_lexer": "ipython3",
   "version": "3.11.5"
  }
 },
 "nbformat": 4,
 "nbformat_minor": 5
}
