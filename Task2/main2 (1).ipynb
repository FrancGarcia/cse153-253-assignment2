{
 "cells": [
  {
   "cell_type": "code",
   "execution_count": 4,
   "id": "47c90abb-34cc-4c00-8bcd-7ca46b4f6120",
   "metadata": {},
   "outputs": [
    {
     "name": "stdout",
     "output_type": "stream",
     "text": [
      "-rw-r--r-- 1 vkomma 100018700 7.0M Jun  2 03:24 maestro-v3.0.0.zip\n"
     ]
    }
   ],
   "source": [
    "!ls -lh maestro-v3.0.0.zip"
   ]
  },
  {
   "cell_type": "code",
   "execution_count": 9,
   "id": "f6c1f507-3430-4981-8660-dadb59c56b4d",
   "metadata": {},
   "outputs": [
    {
     "name": "stdout",
     "output_type": "stream",
     "text": [
      "Defaulting to user installation because normal site-packages is not writeable\n",
      "Requirement already satisfied: pretty_midi in /home/vkomma/.local/lib/python3.11/site-packages (0.2.10)\n",
      "Requirement already satisfied: numpy>=1.7.0 in /opt/conda/lib/python3.11/site-packages (from pretty_midi) (1.26.4)\n",
      "Requirement already satisfied: mido>=1.1.16 in /home/vkomma/.local/lib/python3.11/site-packages (from pretty_midi) (1.3.3)\n",
      "Requirement already satisfied: six in /opt/conda/lib/python3.11/site-packages (from pretty_midi) (1.16.0)\n",
      "Requirement already satisfied: packaging in /opt/conda/lib/python3.11/site-packages (from mido>=1.1.16->pretty_midi) (24.0)\n"
     ]
    }
   ],
   "source": [
    "!pip install pretty_midi"
   ]
  },
  {
   "cell_type": "code",
   "execution_count": null,
   "id": "fa17b128-a99e-426d-a981-4a64939387a7",
   "metadata": {},
   "outputs": [],
   "source": []
  },
  {
   "cell_type": "code",
   "execution_count": null,
   "id": "586bdf81-e662-4e9b-ac14-499c9ac6845b",
   "metadata": {},
   "outputs": [],
   "source": []
  },
  {
   "cell_type": "code",
   "execution_count": null,
   "id": "94238584-499b-4459-918f-69c6c1670214",
   "metadata": {},
   "outputs": [],
   "source": []
  },
  {
   "cell_type": "code",
   "execution_count": null,
   "id": "5d73c585-b18d-496d-8401-05574431dccb",
   "metadata": {},
   "outputs": [],
   "source": [
    " "
   ]
  },
  {
   "cell_type": "code",
   "execution_count": null,
   "id": "0dd87ffc-a44a-4e5b-8805-136edfcf16c4",
   "metadata": {},
   "outputs": [],
   "source": []
  },
  {
   "cell_type": "code",
   "execution_count": null,
   "id": "8c3dd15c-0535-45d4-90ac-cec6afdc1057",
   "metadata": {},
   "outputs": [],
   "source": []
  },
  {
   "cell_type": "code",
   "execution_count": 11,
   "id": "056e58ff-5d2d-4907-b715-b857dbf7ed15",
   "metadata": {},
   "outputs": [],
   "source": [
    "import os\n",
    "import pretty_midi\n",
    "import torch\n",
    "from tqdm import tqdm\n",
    "\n",
    "SEQ_LEN = 256\n",
    "VOCAB_SIZE = 128\n",
    "\n",
    "def extract_melody_harmony_from_midi(midi_file, seq_len=SEQ_LEN):\n",
    "    try:\n",
    "        midi = pretty_midi.PrettyMIDI(midi_file)\n",
    "        notes = []\n",
    "        for inst in midi.instruments:\n",
    "            if not inst.is_drum:\n",
    "                notes.extend(inst.notes)\n",
    "        if len(notes) < seq_len:\n",
    "            return None\n",
    "\n",
    "        notes.sort(key=lambda n: n.start)\n",
    "        start_time = notes[0].start\n",
    "        end_time = notes[-1].end\n",
    "        time_step = (end_time - start_time) / seq_len\n",
    "        if time_step == 0:\n",
    "            return None\n",
    "\n",
    "        melody = [0] * seq_len\n",
    "        harmony = [[0] * VOCAB_SIZE for _ in range(seq_len)]\n",
    "\n",
    "        for note in notes:\n",
    "            idx = int((note.start - start_time) / time_step)\n",
    "            if 0 <= idx < seq_len and 0 <= note.pitch < VOCAB_SIZE:\n",
    "                harmony[idx][note.pitch] = 1\n",
    "\n",
    "        for i in range(seq_len):\n",
    "            active = [p for p, v in enumerate(harmony[i]) if v]\n",
    "            melody[i] = max(active) if active else 0\n",
    "\n",
    "        return melody, harmony\n",
    "    except:\n",
    "        return None\n",
    "\n",
    "def extract_from_folder(folder):\n",
    "    pairs = []\n",
    "    for root, _, files in os.walk(folder):\n",
    "        for file in tqdm(files):\n",
    "            if file.endswith(\".mid\") or file.endswith(\".midi\"):\n",
    "                result = extract_melody_harmony_from_midi(os.path.join(root, file))\n",
    "                if result:\n",
    "                    pairs.append(result)\n",
    "    print(f\"✅ Extracted {len(pairs)} melody-harmony pairs\")\n",
    "    return pairs\n"
   ]
  },
  {
   "cell_type": "code",
   "execution_count": 14,
   "id": "a9642cd7-29da-4c12-b245-32a339ebf9ea",
   "metadata": {},
   "outputs": [],
   "source": [
    "import os\n",
    "import random\n",
    "import torch\n",
    "import torch.nn as nn\n",
    "from torch.utils.data import Dataset, DataLoader\n",
    "import pretty_midi\n",
    "from tqdm import tqdm\n",
    "\n",
    "# ----- CONFIG -----\n",
    "SEQ_LEN = 256\n",
    "VOCAB_SIZE = 128\n",
    "HIDDEN_SIZE = 256\n",
    "BATCH_SIZE = 16\n",
    "EPOCHS = 10\n",
    "LEARNING_RATE = 0.001\n",
    "\n",
    "# ----- DATASET -----\n",
    "class MaestroDataset(Dataset):\n",
    "    def __init__(self, pairs):\n",
    "        self.pairs = pairs\n",
    "\n",
    "    def __len__(self):\n",
    "        return len(self.pairs)\n",
    "\n",
    "    def __getitem__(self, idx):\n",
    "        melody, harmony = self.pairs[idx]\n",
    "        return torch.tensor(melody, dtype=torch.long), torch.tensor(harmony, dtype=torch.float32)\n",
    "\n",
    "# ----- MODEL -----\n",
    "class ChordLSTM(nn.Module):\n",
    "    def __init__(self, vocab_size, hidden_size):\n",
    "        super().__init__()\n",
    "        self.embed = nn.Embedding(vocab_size, hidden_size)\n",
    "        self.lstm = nn.LSTM(hidden_size, hidden_size, batch_first=True, bidirectional=True)\n",
    "        self.fc = nn.Linear(hidden_size * 2, vocab_size)\n",
    "\n",
    "    def forward(self, x):\n",
    "        x = self.embed(x)\n",
    "        out, _ = self.lstm(x)\n",
    "        logits = self.fc(out)\n",
    "        return torch.sigmoid(logits)\n",
    "\n",
    "# ----- TRAINING LOOP -----\n",
    "def train(model, dataloader, epochs=EPOCHS):\n",
    "    device = torch.device(\"cuda\" if torch.cuda.is_available() else \"cpu\")\n",
    "    model.to(device)\n",
    "    opt = torch.optim.Adam(model.parameters(), lr=LEARNING_RATE)\n",
    "    loss_fn = nn.BCELoss()\n",
    "\n",
    "    for epoch in range(1, epochs + 1):\n",
    "        model.train()\n",
    "        total_loss = 0\n",
    "        print(f\"\\n🎵 Epoch {epoch}/{epochs}\")\n",
    "        for melody, harmony in dataloader:\n",
    "            melody, harmony = melody.to(device), harmony.to(device)\n",
    "            pred = model(melody)\n",
    "            loss = loss_fn(pred, harmony)\n",
    "            opt.zero_grad()\n",
    "            loss.backward()\n",
    "            opt.step()\n",
    "            total_loss += loss.item()\n",
    "        print(f\"✅ Avg Loss: {total_loss / len(dataloader):.4f}\")\n",
    "\n",
    "# ----- GENERATION -----\n",
    "def generate_chords(model, melody_seq, temperature=1.0):\n",
    "    device = next(model.parameters()).device\n",
    "    model.eval()\n",
    "    with torch.no_grad():\n",
    "        inp = melody_seq.clone().detach().unsqueeze(0).to(device)\n",
    "        logits = model(inp).squeeze(0)\n",
    "        probs = torch.sigmoid(logits / temperature)\n",
    "        sampled = (probs > 0.5).int().tolist()\n",
    "        return sampled\n",
    "\n",
    "# ----- SAVE TO MIDI -----\n",
    "def save_midi_with_chords(melody_seq, harmony_matrix, filename=\"output_song.mid\"):\n",
    "    midi = pretty_midi.PrettyMIDI()\n",
    "    piano = pretty_midi.Instrument(program=0)\n",
    "\n",
    "    time = 0.0\n",
    "    for i, melody_note in enumerate(melody_seq):\n",
    "        dur = random.choice([0.125, 0.25, 0.375, 0.5])  # dynamic tempo\n",
    "        end = time + dur\n",
    "\n",
    "        if melody_note > 0:\n",
    "            piano.notes.append(pretty_midi.Note(velocity=100, pitch=melody_note, start=time, end=end))\n",
    "\n",
    "        # Add 1–3 top harmony notes\n",
    "        active = [(p, v) for p, v in enumerate(harmony_matrix[i]) if v]\n",
    "        top_pitches = sorted([p for p, _ in active])[:3]\n",
    "        for j, pitch in enumerate(top_pitches):\n",
    "            offset = j * 0.03\n",
    "            piano.notes.append(pretty_midi.Note(velocity=80, pitch=pitch, start=time + offset, end=end))\n",
    "\n",
    "        time = end\n",
    "\n",
    "    midi.instruments.append(piano)\n",
    "    midi.write(filename)\n",
    "    print(f\"🎼 Saved to {filename}\")\n",
    "\n"
   ]
  },
  {
   "cell_type": "code",
   "execution_count": 6,
   "id": "43130d9b-3ea5-48a4-8347-0e6f64320eb1",
   "metadata": {},
   "outputs": [
    {
     "name": "stderr",
     "output_type": "stream",
     "text": [
      "100%|██████████| 5/5 [00:00<00:00, 44620.26it/s]\n",
      "100%|██████████| 115/115 [00:46<00:00,  2.49it/s]\n",
      "100%|██████████| 129/129 [00:25<00:00,  5.10it/s]\n",
      "100%|██████████| 93/93 [00:56<00:00,  1.64it/s]\n",
      "100%|██████████| 1/1 [00:00<00:00, 17772.47it/s]\n",
      "100%|██████████| 163/163 [00:31<00:00,  5.20it/s]\n",
      "100%|██████████| 147/147 [00:30<00:00,  4.82it/s]\n",
      "100%|██████████| 127/127 [00:24<00:00,  5.21it/s]\n",
      "100%|██████████| 105/105 [00:44<00:00,  2.38it/s]\n",
      "100%|██████████| 125/125 [00:50<00:00,  2.49it/s]\n",
      "100%|██████████| 140/140 [00:32<00:00,  4.30it/s]\n",
      "100%|██████████| 132/132 [00:44<00:00,  2.99it/s]"
     ]
    },
    {
     "name": "stdout",
     "output_type": "stream",
     "text": [
      "✅ Extracted 1275 melody-harmony pairs\n"
     ]
    },
    {
     "name": "stderr",
     "output_type": "stream",
     "text": [
      "\n"
     ]
    },
    {
     "ename": "NameError",
     "evalue": "name 'MaestroDataset' is not defined",
     "output_type": "error",
     "traceback": [
      "\u001b[0;31m---------------------------------------------------------------------------\u001b[0m",
      "\u001b[0;31mNameError\u001b[0m                                 Traceback (most recent call last)",
      "Cell \u001b[0;32mIn[6], line 2\u001b[0m\n\u001b[1;32m      1\u001b[0m pairs \u001b[38;5;241m=\u001b[39m extract_from_folder(\u001b[38;5;124m\"\u001b[39m\u001b[38;5;124mmaestro/maestro-v3.0.0\u001b[39m\u001b[38;5;124m\"\u001b[39m)\n\u001b[0;32m----> 2\u001b[0m dataset \u001b[38;5;241m=\u001b[39m \u001b[43mMaestroDataset\u001b[49m(pairs)\n\u001b[1;32m      3\u001b[0m loader \u001b[38;5;241m=\u001b[39m DataLoader(dataset, batch_size\u001b[38;5;241m=\u001b[39mBATCH_SIZE, shuffle\u001b[38;5;241m=\u001b[39m\u001b[38;5;28;01mTrue\u001b[39;00m)\n",
      "\u001b[0;31mNameError\u001b[0m: name 'MaestroDataset' is not defined"
     ]
    }
   ],
   "source": [
    "pairs = extract_from_folder(\"maestro/maestro-v3.0.0\")\n",
    "dataset = MaestroDataset(pairs)\n",
    "loader = DataLoader(dataset, batch_size=BATCH_SIZE, shuffle=True)"
   ]
  },
  {
   "cell_type": "code",
   "execution_count": 3,
   "id": "6d776869-5db0-4473-8df9-85a497190e75",
   "metadata": {},
   "outputs": [
    {
     "name": "stderr",
     "output_type": "stream",
     "text": [
      "100%|██████████| 5/5 [00:00<00:00, 44620.26it/s]\n",
      "100%|██████████| 115/115 [00:30<00:00,  3.79it/s]\n",
      "100%|██████████| 129/129 [00:16<00:00,  7.75it/s]\n",
      "100%|██████████| 93/93 [00:35<00:00,  2.61it/s]\n",
      "100%|██████████| 1/1 [00:00<00:00, 26214.40it/s]\n",
      "100%|██████████| 163/163 [00:19<00:00,  8.35it/s]\n",
      "100%|██████████| 147/147 [00:19<00:00,  7.50it/s]\n",
      "100%|██████████| 127/127 [00:16<00:00,  7.76it/s]\n",
      "100%|██████████| 105/105 [00:28<00:00,  3.63it/s]\n",
      "100%|██████████| 125/125 [00:31<00:00,  3.98it/s]\n",
      "100%|██████████| 140/140 [00:20<00:00,  6.73it/s]\n",
      "100%|██████████| 132/132 [00:28<00:00,  4.66it/s]\n"
     ]
    },
    {
     "name": "stdout",
     "output_type": "stream",
     "text": [
      "✅ Extracted 1275 melody-harmony pairs\n",
      "\n",
      "🎵 Epoch 1/10\n",
      "✅ Avg Loss: 0.2429\n",
      "\n",
      "🎵 Epoch 2/10\n",
      "✅ Avg Loss: 0.1717\n",
      "\n",
      "🎵 Epoch 3/10\n",
      "✅ Avg Loss: 0.1637\n",
      "\n",
      "🎵 Epoch 4/10\n",
      "✅ Avg Loss: 0.1597\n",
      "\n",
      "🎵 Epoch 5/10\n",
      "✅ Avg Loss: 0.1571\n",
      "\n",
      "🎵 Epoch 6/10\n",
      "✅ Avg Loss: 0.1551\n",
      "\n",
      "🎵 Epoch 7/10\n",
      "✅ Avg Loss: 0.1536\n",
      "\n",
      "🎵 Epoch 8/10\n",
      "✅ Avg Loss: 0.1520\n",
      "\n",
      "🎵 Epoch 9/10\n",
      "✅ Avg Loss: 0.1510\n",
      "\n",
      "🎵 Epoch 10/10\n",
      "✅ Avg Loss: 0.1496\n",
      "🎼 Saved: final_song_1.mid\n",
      "🎼 Saved: final_song_2.mid\n",
      "🎼 Saved: final_song_3.mid\n",
      "🎼 Saved: final_song_4.mid\n",
      "🎼 Saved: final_song_5.mid\n",
      "🎼 Saved: final_song_6.mid\n"
     ]
    }
   ],
   "source": [
    "pairs = extract_from_folder(\"maestro/maestro-v3.0.0\")\n",
    "dataset = MaestroDataset(pairs)\n",
    "loader = DataLoader(dataset, batch_size=BATCH_SIZE, shuffle=True)\n",
    "\n",
    "model = ChordLSTM(VOCAB_SIZE, HIDDEN_SIZE)\n",
    "train(model, loader)\n",
    "\n",
    "for i in range(6):\n",
    "    melody_sample, _ = random.choice(dataset)\n",
    "    harmony = generate_chords(model, melody_sample)\n",
    "    save_midi_with_chords(melody_sample.tolist(), harmony, f\"final_song_{i+1}.mid\")\n"
   ]
  },
  {
   "cell_type": "code",
   "execution_count": 8,
   "id": "79cdff96-a855-4bac-a665-9d49442fcf22",
   "metadata": {},
   "outputs": [
    {
     "name": "stdout",
     "output_type": "stream",
     "text": [
      "\n",
      "🎵 Epoch 1/10\n",
      "✅ Avg Loss: 0.2429\n",
      "\n",
      "🎵 Epoch 2/10\n",
      "✅ Avg Loss: 0.1726\n",
      "\n",
      "🎵 Epoch 3/10\n",
      "✅ Avg Loss: 0.1641\n",
      "\n",
      "🎵 Epoch 4/10\n",
      "✅ Avg Loss: 0.1600\n",
      "\n",
      "🎵 Epoch 5/10\n",
      "✅ Avg Loss: 0.1574\n",
      "\n",
      "🎵 Epoch 6/10\n",
      "✅ Avg Loss: 0.1551\n",
      "\n",
      "🎵 Epoch 7/10\n",
      "✅ Avg Loss: 0.1536\n",
      "\n",
      "🎵 Epoch 8/10\n",
      "✅ Avg Loss: 0.1522\n",
      "\n",
      "🎵 Epoch 9/10\n",
      "✅ Avg Loss: 0.1507\n",
      "\n",
      "🎵 Epoch 10/10\n",
      "✅ Avg Loss: 0.1495\n",
      "🎼 Saved to genereated_output_1.mid\n",
      "🎼 Saved to genereated_output_2.mid\n",
      "🎼 Saved to genereated_output_3.mid\n",
      "🎼 Saved to genereated_output_4.mid\n",
      "🎼 Saved to genereated_output_5.mid\n",
      "🎼 Saved to genereated_output_6.mid\n"
     ]
    }
   ],
   "source": [
    "\n",
    "model = ChordLSTM(VOCAB_SIZE, HIDDEN_SIZE)\n",
    "train(model, loader)\n",
    "\n",
    "for i in range(6):\n",
    "    melody_sample, _ = random.choice(dataset)\n",
    "    harmony = generate_chords(model, melody_sample)\n",
    "    save_midi_with_chords(melody_sample.tolist(), harmony, f\"genereated_output_{i+1}.mid\")"
   ]
  },
  {
   "cell_type": "code",
   "execution_count": 18,
   "id": "2ffa87b5-bf95-4e19-beca-a928b2cb5f64",
   "metadata": {},
   "outputs": [],
   "source": [
    "from collections import defaultdict, Counter\n",
    "import numpy as np\n",
    "import random\n",
    "\n",
    "# ----- BUILD MELODY → HARMONY COUNTS -----\n",
    "melody_to_harmony_counts = defaultdict(Counter)\n",
    "\n",
    "for melody, harmony in dataset:\n",
    "    for m, h in zip(melody.tolist(), harmony.tolist()):\n",
    "        pitches = tuple(i for i, v in enumerate(h) if v > 0)\n",
    "        melody_to_harmony_counts[m].update([pitches])\n",
    "\n",
    "# ----- CONVERT TO PROBABILITIES -----\n",
    "melody_to_harmony_probs = {}\n",
    "for m, counter in melody_to_harmony_counts.items():\n",
    "    total = sum(counter.values())\n",
    "    melody_to_harmony_probs[m] = {\n",
    "        chords: count / total for chords, count in counter.items()\n",
    "    }\n",
    "\n",
    "# ----- HMM INFERENCE FUNCTION -----\n",
    "def hmm_generate_harmony(melody_seq):\n",
    "    harmony_seq = []\n",
    "    for m in melody_seq:\n",
    "        chord_probs = melody_to_harmony_probs.get(m, {})\n",
    "        if chord_probs:\n",
    "            chords = random.choices(list(chord_probs.keys()), weights=chord_probs.values())[0]\n",
    "        else:\n",
    "            chords = ()\n",
    "        onehot = [0] * VOCAB_SIZE\n",
    "        for p in chords:\n",
    "            onehot[p] = 1\n",
    "        harmony_seq.append(onehot)\n",
    "    return harmony_seq\n"
   ]
  },
  {
   "cell_type": "code",
   "execution_count": 19,
   "id": "136f34ad-0963-4eb0-93a4-72c4c5480e8a",
   "metadata": {},
   "outputs": [
    {
     "name": "stdout",
     "output_type": "stream",
     "text": [
      "🎼 Saved to hmm_baseline_song.mid\n"
     ]
    }
   ],
   "source": [
    "melody_sample, _ = random.choice(dataset)\n",
    "hmm_harmony = hmm_generate_harmony(melody_sample.tolist())\n",
    "save_midi_with_chords(melody_sample.tolist(), hmm_harmony, \"hmm_baseline_song.mid\")"
   ]
  },
  {
   "cell_type": "code",
   "execution_count": 20,
   "id": "0a7d4638-14c1-4f68-a659-6125f06297bc",
   "metadata": {},
   "outputs": [
    {
     "name": "stdout",
     "output_type": "stream",
     "text": [
      "🎼 Saved to hmm_baseline_song2.mid\n"
     ]
    }
   ],
   "source": [
    "melody_sample, _ = random.choice(dataset)\n",
    "hmm_harmony = hmm_generate_harmony(melody_sample.tolist())\n",
    "save_midi_with_chords(melody_sample.tolist(), hmm_harmony, \"hmm_baseline_song2.mid\")"
   ]
  },
  {
   "cell_type": "code",
   "execution_count": null,
   "id": "a5244fc8-87bf-4988-be66-11c7a6f96e46",
   "metadata": {},
   "outputs": [],
   "source": []
  }
 ],
 "metadata": {
  "kernelspec": {
   "display_name": "Python 3 (ipykernel)",
   "language": "python",
   "name": "python3"
  },
  "language_info": {
   "codemirror_mode": {
    "name": "ipython",
    "version": 3
   },
   "file_extension": ".py",
   "mimetype": "text/x-python",
   "name": "python",
   "nbconvert_exporter": "python",
   "pygments_lexer": "ipython3",
   "version": "3.11.9"
  }
 },
 "nbformat": 4,
 "nbformat_minor": 5
}
