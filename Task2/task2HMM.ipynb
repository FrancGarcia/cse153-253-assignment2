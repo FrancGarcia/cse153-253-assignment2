{
 "cells": [
  {
   "cell_type": "code",
   "execution_count": 39,
   "id": "02e2c358-3b9d-4f06-9332-808d0520d8ad",
   "metadata": {},
   "outputs": [
    {
     "name": "stdout",
     "output_type": "stream",
     "text": [
      "Number of instrument tracks: 1\n",
      "Instrument 0 | Program: 0 | Notes: 6007\n",
      "Sample notes: [Note(velocity=35, pitch=50, start=1287, end=1571), Note(velocity=37, pitch=53, start=1423, end=1660), Note(velocity=39, pitch=58, start=1560, end=1916), Note(velocity=40, pitch=46, start=1192, end=2563), Note(velocity=35, pitch=34, start=1002, end=3844)]\n"
     ]
    }
   ],
   "source": [
    "from miditoolkit import MidiFile\n",
    "\n",
    "# Path to your MIDI file\n",
    "path = \"maestro-v3.0.0/2004/MIDI-Unprocessed_XP_21_R1_2004_02_ORIG_MID--AUDIO_21_R1_2004_03_Track03_wav.midi\"\n",
    "\n",
    "# Load the MIDI file\n",
    "midi = MidiFile(path)\n",
    "\n",
    "# Print basic info\n",
    "print(\"Number of instrument tracks:\", len(midi.instruments))\n",
    "for i, inst in enumerate(midi.instruments):\n",
    "    print(f\"Instrument {i} | Program: {inst.program} | Notes: {len(inst.notes)}\")\n",
    "    print(\"Sample notes:\", inst.notes[:5])\n"
   ]
  },
  {
   "cell_type": "code",
   "execution_count": 40,
   "id": "eb0ae0a7-af7d-46cd-987e-fdf6746fb99f",
   "metadata": {},
   "outputs": [],
   "source": [
    "import os\n",
    "import pretty_midi\n",
    "import torch\n",
    "from tqdm import tqdm\n",
    "\n",
    "SEQ_LEN = 256\n",
    "VOCAB_SIZE = 128\n",
    "\n",
    "def extract_melody_harmony_from_midi(midi_file, seq_len=SEQ_LEN):\n",
    "    try:\n",
    "        midi = pretty_midi.PrettyMIDI(midi_file)\n",
    "        notes = []\n",
    "        for inst in midi.instruments:\n",
    "            if not inst.is_drum:\n",
    "                notes.extend(inst.notes)\n",
    "        if len(notes) < seq_len:\n",
    "            return None\n",
    "\n",
    "        notes.sort(key=lambda n: n.start)\n",
    "        start_time = notes[0].start\n",
    "        end_time = notes[-1].end\n",
    "        time_step = (end_time - start_time) / seq_len\n",
    "        if time_step == 0:\n",
    "            return None\n",
    "\n",
    "        melody = [0] * seq_len\n",
    "        harmony = [[0] * VOCAB_SIZE for _ in range(seq_len)]\n",
    "\n",
    "        for note in notes:\n",
    "            idx = int((note.start - start_time) / time_step)\n",
    "            if 0 <= idx < seq_len and 0 <= note.pitch < VOCAB_SIZE:\n",
    "                harmony[idx][note.pitch] = 1\n",
    "\n",
    "        for i in range(seq_len):\n",
    "            active = [p for p, v in enumerate(harmony[i]) if v]\n",
    "            melody[i] = max(active) if active else 0\n",
    "\n",
    "        return melody, harmony\n",
    "    except:\n",
    "        return None\n",
    "\n",
    "def extract_from_folder(folder):\n",
    "    pairs = []\n",
    "    for root, _, files in os.walk(folder):\n",
    "        for file in tqdm(files):\n",
    "            if file.endswith(\".mid\") or file.endswith(\".midi\"):\n",
    "                result = extract_melody_harmony_from_midi(os.path.join(root, file))\n",
    "                if result:\n",
    "                    pairs.append(result)\n",
    "    print(f\"✅ Extracted {len(pairs)} melody-harmony pairs\")\n",
    "    return pairs\n"
   ]
  },
  {
   "cell_type": "code",
   "execution_count": 41,
   "id": "efd35b1d-722d-4217-aacd-f22041eb7655",
   "metadata": {},
   "outputs": [],
   "source": [
    "import os\n",
    "import random\n",
    "import torch\n",
    "import torch.nn as nn\n",
    "from torch.utils.data import Dataset, DataLoader\n",
    "import pretty_midi\n",
    "from tqdm import tqdm\n",
    "\n",
    "# ----- CONFIG -----\n",
    "SEQ_LEN = 256\n",
    "VOCAB_SIZE = 128\n",
    "HIDDEN_SIZE = 256\n",
    "BATCH_SIZE = 16\n",
    "EPOCHS = 10\n",
    "LEARNING_RATE = 0.001\n",
    "\n",
    "# ----- DATASET -----\n",
    "class MaestroDataset(Dataset):\n",
    "    def __init__(self, pairs):\n",
    "        self.pairs = pairs\n",
    "\n",
    "    def __len__(self):\n",
    "        return len(self.pairs)\n",
    "\n",
    "    def __getitem__(self, idx):\n",
    "        melody, harmony = self.pairs[idx]\n",
    "        return torch.tensor(melody, dtype=torch.long), torch.tensor(harmony, dtype=torch.float32)\n",
    "\n",
    "# ----- MODEL -----\n",
    "class ChordLSTM(nn.Module):\n",
    "    def __init__(self, vocab_size, hidden_size):\n",
    "        super().__init__()\n",
    "        self.embed = nn.Embedding(vocab_size, hidden_size)\n",
    "        self.lstm = nn.LSTM(hidden_size, hidden_size, batch_first=True, bidirectional=True)\n",
    "        self.fc = nn.Linear(hidden_size * 2, vocab_size)\n",
    "\n",
    "    def forward(self, x):\n",
    "        x = self.embed(x)\n",
    "        out, _ = self.lstm(x)\n",
    "        logits = self.fc(out)\n",
    "        return torch.sigmoid(logits)\n",
    "\n",
    "# ----- TRAINING LOOP -----\n",
    "def train(model, dataloader, epochs=EPOCHS):\n",
    "    device = torch.device(\"cuda\" if torch.cuda.is_available() else \"cpu\")\n",
    "    model.to(device)\n",
    "    opt = torch.optim.Adam(model.parameters(), lr=LEARNING_RATE)\n",
    "    loss_fn = nn.BCELoss()\n",
    "\n",
    "    for epoch in range(1, epochs + 1):\n",
    "        model.train()\n",
    "        total_loss = 0\n",
    "        print(f\"\\n🎵 Epoch {epoch}/{epochs}\")\n",
    "        for melody, harmony in dataloader:\n",
    "            melody, harmony = melody.to(device), harmony.to(device)\n",
    "            pred = model(melody)\n",
    "            loss = loss_fn(pred, harmony)\n",
    "            opt.zero_grad()\n",
    "            loss.backward()\n",
    "            opt.step()\n",
    "            total_loss += loss.item()\n",
    "        print(f\"✅ Avg Loss: {total_loss / len(dataloader):.4f}\")\n",
    "\n",
    "# ----- GENERATION -----\n",
    "def generate_chords(model, melody_seq, temperature=1.0):\n",
    "    device = next(model.parameters()).device\n",
    "    model.eval()\n",
    "    with torch.no_grad():\n",
    "        inp = melody_seq.clone().detach().unsqueeze(0).to(device)\n",
    "        logits = model(inp).squeeze(0)\n",
    "        probs = torch.sigmoid(logits / temperature)\n",
    "        sampled = (probs > 0.5).int().tolist()\n",
    "        return sampled\n",
    "\n",
    "# ----- SAVE TO MIDI -----\n",
    "def save_midi_with_chords(melody_seq, harmony_matrix, filename=\"output_song.mid\"):\n",
    "    midi = pretty_midi.PrettyMIDI()\n",
    "    piano = pretty_midi.Instrument(program=0)\n",
    "\n",
    "    time = 0.0\n",
    "    for i, melody_note in enumerate(melody_seq):\n",
    "        dur = random.choice([0.125, 0.25, 0.375, 0.5])  # dynamic tempo\n",
    "        end = time + dur\n",
    "\n",
    "        if melody_note > 0:\n",
    "            piano.notes.append(pretty_midi.Note(velocity=100, pitch=melody_note, start=time, end=end))\n",
    "\n",
    "        # Add 1–3 top harmony notes\n",
    "        active = [(p, v) for p, v in enumerate(harmony_matrix[i]) if v]\n",
    "        top_pitches = sorted([p for p, _ in active])[:3]\n",
    "        for j, pitch in enumerate(top_pitches):\n",
    "            offset = j * 0.03\n",
    "            piano.notes.append(pretty_midi.Note(velocity=80, pitch=pitch, start=time + offset, end=end))\n",
    "\n",
    "        time = end\n",
    "\n",
    "    midi.instruments.append(piano)\n",
    "    midi.write(filename)\n",
    "    print(f\"🎼 Saved to {filename}\")\n",
    "\n"
   ]
  },
  {
   "cell_type": "code",
   "execution_count": 43,
   "id": "739fd581-12fd-4a78-8cd2-fcf2c6b11231",
   "metadata": {},
   "outputs": [
    {
     "name": "stderr",
     "output_type": "stream",
     "text": [
      "100%|██████████████████████████████████████████████████████████████████████████████████████████████████████████████████████████████████████████████████████████████████████████| 4/4 [00:00<00:00, 20286.84it/s]\n",
      "100%|█████████████████████████████████████████████████████████████████████████████████████████████████████████████████████████████████████████████████████████████████████████| 127/127 [00:06<00:00, 19.27it/s]\n",
      "100%|█████████████████████████████████████████████████████████████████████████████████████████████████████████████████████████████████████████████████████████████████████████| 105/105 [00:12<00:00,  8.73it/s]\n",
      "100%|█████████████████████████████████████████████████████████████████████████████████████████████████████████████████████████████████████████████████████████████████████████| 129/129 [00:07<00:00, 16.96it/s]\n",
      "100%|█████████████████████████████████████████████████████████████████████████████████████████████████████████████████████████████████████████████████████████████████████████| 147/147 [00:08<00:00, 16.94it/s]\n",
      "100%|█████████████████████████████████████████████████████████████████████████████████████████████████████████████████████████████████████████████████████████████████████████| 115/115 [00:14<00:00,  8.01it/s]\n",
      "100%|█████████████████████████████████████████████████████████████████████████████████████████████████████████████████████████████████████████████████████████████████████████| 125/125 [00:13<00:00,  8.98it/s]\n",
      "100%|█████████████████████████████████████████████████████████████████████████████████████████████████████████████████████████████████████████████████████████████████████████| 140/140 [00:09<00:00, 15.22it/s]\n",
      "100%|███████████████████████████████████████████████████████████████████████████████████████████████████████████████████████████████████████████████████████████████████████████| 93/93 [00:17<00:00,  5.37it/s]\n",
      "100%|█████████████████████████████████████████████████████████████████████████████████████████████████████████████████████████████████████████████████████████████████████████| 163/163 [00:09<00:00, 17.19it/s]\n",
      "0it [00:00, ?it/s]\n",
      "100%|█████████████████████████████████████████████████████████████████████████████████████████████████████████████████████████████████████████████████████████████████████████| 132/132 [00:12<00:00, 10.33it/s]"
     ]
    },
    {
     "name": "stdout",
     "output_type": "stream",
     "text": [
      "✅ Extracted 1275 melody-harmony pairs\n"
     ]
    },
    {
     "name": "stderr",
     "output_type": "stream",
     "text": [
      "\n"
     ]
    }
   ],
   "source": [
    "pairs = extract_from_folder(\"maestro-v3.0.0\")\n",
    "dataset = MaestroDataset(pairs)\n",
    "loader = DataLoader(dataset, batch_size=BATCH_SIZE, shuffle=True)"
   ]
  },
  {
   "cell_type": "code",
   "execution_count": 44,
   "id": "a3f5b75d-79e6-4abb-b090-74484061b696",
   "metadata": {},
   "outputs": [
    {
     "name": "stdout",
     "output_type": "stream",
     "text": [
      "\n",
      "🎵 Epoch 1/10\n",
      "✅ Avg Loss: 0.2455\n",
      "\n",
      "🎵 Epoch 2/10\n",
      "✅ Avg Loss: 0.1728\n",
      "\n",
      "🎵 Epoch 3/10\n",
      "✅ Avg Loss: 0.1642\n",
      "\n",
      "🎵 Epoch 4/10\n",
      "✅ Avg Loss: 0.1597\n",
      "\n",
      "🎵 Epoch 5/10\n",
      "✅ Avg Loss: 0.1572\n",
      "\n",
      "🎵 Epoch 6/10\n",
      "✅ Avg Loss: 0.1553\n",
      "\n",
      "🎵 Epoch 7/10\n",
      "✅ Avg Loss: 0.1532\n",
      "\n",
      "🎵 Epoch 8/10\n",
      "✅ Avg Loss: 0.1519\n",
      "\n",
      "🎵 Epoch 9/10\n",
      "✅ Avg Loss: 0.1507\n",
      "\n",
      "🎵 Epoch 10/10\n",
      "✅ Avg Loss: 0.1496\n",
      "🎼 Saved to final_song_1.mid\n",
      "🎼 Saved to final_song_2.mid\n",
      "🎼 Saved to final_song_3.mid\n",
      "🎼 Saved to final_song_4.mid\n",
      "🎼 Saved to final_song_5.mid\n",
      "🎼 Saved to final_song_6.mid\n"
     ]
    }
   ],
   "source": [
    "model = ChordLSTM(VOCAB_SIZE, HIDDEN_SIZE)\n",
    "train(model, loader)\n",
    "\n",
    "for i in range(6):\n",
    "    melody_sample, _ = random.choice(dataset)\n",
    "    harmony = generate_chords(model, melody_sample)\n",
    "    save_midi_with_chords(melody_sample.tolist(), harmony, f\"final_song_{i+1}.mid\")"
   ]
  },
  {
   "cell_type": "code",
   "execution_count": 72,
   "id": "0c3104fe-3012-4e32-9687-9cb7bf65fada",
   "metadata": {},
   "outputs": [
    {
     "name": "stdout",
     "output_type": "stream",
     "text": [
      "LSTM accuracy: 0.063140869140625\n",
      "🔢 HMM Log-Likelihood: -8.192738232610479\n"
     ]
    },
    {
     "name": "stderr",
     "output_type": "stream",
     "text": [
      "/var/folders/70/8_8180cx6kd1sd20ygcxjsk40000gn/T/ipykernel_31350/3354850401.py:2: UserWarning: To copy construct from a tensor, it is recommended to use sourceTensor.detach().clone() or sourceTensor.detach().clone().requires_grad_(True), rather than torch.tensor(sourceTensor).\n",
      "  melody_sample = torch.tensor(melody_sample, dtype=torch.long)\n",
      "/var/folders/70/8_8180cx6kd1sd20ygcxjsk40000gn/T/ipykernel_31350/3354850401.py:8: DeprecationWarning: __array__ implementation doesn't accept a copy keyword, so passing copy=False failed. __array__ must implement 'dtype' and 'copy' keyword arguments. To learn more, see the migration guide https://numpy.org/devdocs/numpy_2_0_migration_guide.html#adapting-to-changes-in-the-copy-keyword\n",
      "  accuracy = np.mean(np.array(lstm_harmony) == np.array(harmony_gt))\n"
     ]
    }
   ],
   "source": [
    "melody_sample, harmony_gt = random.choice(dataset)\n",
    "melody_sample = torch.tensor(melody_sample, dtype=torch.long)\n",
    "\n",
    "# Generate LSTM prediction\n",
    "lstm_harmony = generate_chords(model, melody_sample)\n",
    "\n",
    "# Compute accuracy\n",
    "accuracy = np.mean(np.array(lstm_harmony) == np.array(harmony_gt))\n",
    "print(\"LSTM accuracy:\", accuracy)\n",
    "\n",
    "import numpy as np\n",
    "\n",
    "def get_log_likelihood(harmony_gt, melody_seq):\n",
    "    log_likelihoods = []\n",
    "\n",
    "    for i, m in enumerate(melody_seq):\n",
    "        chord_probs = melody_to_harmony_probs.get(m, {})\n",
    "        \n",
    "        # Get the ground-truth chord tuple\n",
    "        gt_vector = harmony_gt[i]\n",
    "        gt_chord = tuple(j for j, val in enumerate(gt_vector) if val > 0)\n",
    "\n",
    "        prob = chord_probs.get(gt_chord, 1e-9)  # Use small value if not found\n",
    "        log_likelihoods.append(np.log(prob))\n",
    "\n",
    "    return np.mean(log_likelihoods)\n",
    "\n",
    "# Use your current sample\n",
    "melody_sample, harmony_gt = random.choice(dataset)\n",
    "melody_seq = melody_sample.tolist()\n",
    "harmony_gt = harmony_gt.tolist()\n",
    "\n",
    "avg_log_likelihood = get_log_likelihood(harmony_gt, melody_seq)\n",
    "print(\"🔢 HMM Log-Likelihood:\", avg_log_likelihood)\n"
   ]
  },
  {
   "cell_type": "code",
   "execution_count": null,
   "id": "43a8b0fd-1537-4c09-bedb-20d226395ec8",
   "metadata": {},
   "outputs": [],
   "source": []
  },
  {
   "cell_type": "code",
   "execution_count": null,
   "id": "122e641e-a02a-47d3-ae1d-54995b47c64b",
   "metadata": {},
   "outputs": [],
   "source": []
  },
  {
   "cell_type": "code",
   "execution_count": null,
   "id": "1fa0b4b7-1148-48e0-9261-fdb1f90c7536",
   "metadata": {},
   "outputs": [],
   "source": []
  },
  {
   "cell_type": "code",
   "execution_count": 78,
   "id": "12fc6b64-5712-4376-83d9-f9c50ab6e6df",
   "metadata": {},
   "outputs": [],
   "source": [
    "\n",
    "from collections import defaultdict, Counter\n",
    "import numpy as np\n",
    "import random\n",
    "\n",
    "# ----- BUILD MELODY → HARMONY COUNTS -----\n",
    "melody_to_harmony_counts = defaultdict(Counter)\n",
    "\n",
    "for melody, harmony in dataset:\n",
    "    for m, h in zip(melody.tolist(), harmony.tolist()):\n",
    "        pitches = tuple(i for i, v in enumerate(h) if v > 0)\n",
    "        melody_to_harmony_counts[m].update([pitches])\n",
    "\n",
    "# ----- CONVERT TO PROBABILITIES -----\n",
    "melody_to_harmony_probs = {}\n",
    "for m, counter in melody_to_harmony_counts.items():\n",
    "    total = sum(counter.values())\n",
    "    melody_to_harmony_probs[m] = {\n",
    "        chords: count / total for chords, count in counter.items()\n",
    "    }\n",
    "\n",
    "# ----- HMM INFERENCE FUNCTION -----\n",
    "def hmm_generate_harmony(melody_seq):\n",
    "    harmony_seq = []\n",
    "    for m in melody_seq:\n",
    "        chord_probs = melody_to_harmony_probs.get(m, {})\n",
    "        if chord_probs:\n",
    "            chords = random.choices(list(chord_probs.keys()), weights=chord_probs.values())[0]\n",
    "        else:\n",
    "            chords = ()\n",
    "        onehot = [0] * VOCAB_SIZE\n",
    "        for p in chords:\n",
    "            onehot[p] = 1\n",
    "        harmony_seq.append(onehot)\n",
    "    return harmony_seq\n"
   ]
  },
  {
   "cell_type": "code",
   "execution_count": null,
   "id": "4fbf6f0b-312f-465a-bdcd-b1bdaf691412",
   "metadata": {},
   "outputs": [],
   "source": []
  },
  {
   "cell_type": "code",
   "execution_count": 79,
   "id": "ed236bd4-8e63-41d3-b34c-56b6350e7133",
   "metadata": {},
   "outputs": [],
   "source": [
    "def compute_hmm_accuracy(dataset, n_samples=10):\n",
    "    correct = 0\n",
    "    total = 0\n",
    "\n",
    "    for _ in range(n_samples):\n",
    "        melody, true_harmony = random.choice(dataset)\n",
    "        pred_harmony = hmm_generate_harmony(melody.tolist())\n",
    "\n",
    "        # Safety check: same length?\n",
    "        if len(pred_harmony) != len(true_harmony):\n",
    "            continue\n",
    "\n",
    "        for pred_vec, true_vec in zip(pred_harmony, true_harmony.tolist()):\n",
    "            if pred_vec == true_vec:  # list equality\n",
    "                correct += 1\n",
    "            total += 1\n",
    "\n",
    "    acc = correct / total if total > 0 else 0\n",
    "    print(f\"HMM accuracy: {acc:.4f}\")\n",
    "    return acc\n",
    "\n"
   ]
  },
  {
   "cell_type": "code",
   "execution_count": 85,
   "id": "d42e02ba-0dd0-4128-97ba-7f2b5763742f",
   "metadata": {},
   "outputs": [
    {
     "name": "stdout",
     "output_type": "stream",
     "text": [
      "KL divergence (HMM vs ground truth): 0.11321344861544476\n"
     ]
    }
   ],
   "source": [
    "melody_sample, harmony_gt = random.choice(dataset)\n",
    "hmm_harmony = hmm_generate_harmony(melody_sample.tolist())\n",
    "\n",
    "from scipy.special import rel_entr\n",
    "import numpy as np\n",
    "\n",
    "# Flatten one-hot vectors to pitch counts\n",
    "def get_pitch_distribution(harmony_seq):\n",
    "    pitch_counts = np.sum(harmony_seq, axis=0)\n",
    "    dist = pitch_counts / np.sum(pitch_counts)\n",
    "    return dist\n",
    "\n",
    "# Get ground-truth harmony\n",
    "_, harmony_gt = random.choice(dataset)\n",
    "harmony_gt = harmony_gt.tolist()\n",
    "\n",
    "# Get distributions\n",
    "p = get_pitch_distribution(hmm_harmony) + 1e-9  # add small constant for stability\n",
    "q = get_pitch_distribution(harmony_gt) + 1e-9\n",
    "\n",
    "kl_div = np.sum(rel_entr(p, q))\n",
    "print(\"KL divergence (HMM vs ground truth):\", kl_div)\n"
   ]
  },
  {
   "cell_type": "code",
   "execution_count": 86,
   "id": "dc42c559-7818-41fb-97b3-af05856aa908",
   "metadata": {},
   "outputs": [
    {
     "data": {
      "image/png": "[encoded data removed]",
      "text/plain": [
       "<Figure size 1000x400 with 1 Axes>"
      ]
     },
     "metadata": {},
     "output_type": "display_data"
    }
   ],
   "source": [
    "import matplotlib.pyplot as plt\n",
    "\n",
    "plt.figure(figsize=(10, 4))\n",
    "plt.bar(range(len(p)), p, alpha=0.6, label='LSTM Harmony')\n",
    "plt.bar(range(len(q)), q, alpha=0.6, label='Ground Truth')\n",
    "plt.xlabel(\"Pitch Index\")\n",
    "plt.ylabel(\"Probability\")\n",
    "plt.title(\"Pitch Distribution: LSTM vs Ground Truth\")\n",
    "plt.legend()\n",
    "plt.show()\n"
   ]
  },
  {
   "cell_type": "code",
   "execution_count": 87,
   "id": "135623c8-699a-4f2e-a1e8-0e77edce6f61",
   "metadata": {},
   "outputs": [
    {
     "data": {
      "image/png": "[encoded data removed]",
      "text/plain": [
       "<Figure size 1000x500 with 1 Axes>"
      ]
     },
     "metadata": {},
     "output_type": "display_data"
    }
   ],
   "source": [
    "# Get a melody + ground truth harmony from dataset\n",
    "melody_sample, harmony_gt = random.choice(dataset)\n",
    "harmony_gt = harmony_gt.tolist()\n",
    "\n",
    "# Get HMM harmony prediction\n",
    "hmm_harmony = hmm_generate_harmony(melody_sample.tolist())\n",
    "\n",
    "# Compute pitch distributions\n",
    "p_hmm = get_pitch_distribution(hmm_harmony)\n",
    "p_gt = get_pitch_distribution(harmony_gt)\n",
    "\n",
    "# Plot pitch distribution\n",
    "import matplotlib.pyplot as plt\n",
    "plt.figure(figsize=(10, 5))\n",
    "plt.bar(range(len(p_hmm)), p_hmm, alpha=0.6, label='HMM Harmony')\n",
    "plt.bar(range(len(p_gt)), p_gt, alpha=0.6, label='Ground Truth')\n",
    "plt.xlabel(\"Pitch Index\")\n",
    "plt.ylabel(\"Probability\")\n",
    "plt.title(\"Pitch Distribution: HMM vs Ground Truth\")\n",
    "plt.legend()\n",
    "plt.show()\n"
   ]
  },
  {
   "cell_type": "code",
   "execution_count": null,
   "id": "6209479e-3fb4-447d-bba6-c15dd9937d9a",
   "metadata": {},
   "outputs": [],
   "source": []
  },
  {
   "cell_type": "code",
   "execution_count": null,
   "id": "00bad974-45c3-4393-85d7-fc4b84e27133",
   "metadata": {},
   "outputs": [],
   "source": []
  },
  {
   "cell_type": "code",
   "execution_count": null,
   "id": "6fe70b8b-d966-4870-8ca6-6f4ddcb268ce",
   "metadata": {},
   "outputs": [],
   "source": []
  }
 ],
 "metadata": {
  "kernelspec": {
   "display_name": "Python 3 (ipykernel)",
   "language": "python",
   "name": "python3"
  },
  "language_info": {
   "codemirror_mode": {
    "name": "ipython",
    "version": 3
   },
   "file_extension": ".py",
   "mimetype": "text/x-python",
   "name": "python",
   "nbconvert_exporter": "python",
   "pygments_lexer": "ipython3",
   "version": "3.10.16"
  }
 },
 "nbformat": 4,
 "nbformat_minor": 5
}
